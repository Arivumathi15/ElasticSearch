{
 "cells": [
  {
   "cell_type": "markdown",
   "id": "9e03c35e-1cf7-4c3f-97df-256cbe2fb79a",
   "metadata": {},
   "source": [
    "What is Mapping?\n",
    "As per Elasticsearch Reference, \"Mapping is the process of defining how a document, and the fields it contains, are stored and indexed.\"\n",
    "\n",
    "How does it help?\n",
    "It enables in faster search retrieval and aggregations. Hence, your mapping defines how effectively you can handle your data. A bad mapping can have severe consequences on the performance of your system.\n",
    "\n",
    "To know more about mappings: https://www.elastic.co/guide/en/elasticsearch/reference/current/mapping.html"
   ]
  },
  {
   "cell_type": "code",
   "execution_count": 1,
   "id": "87fd8a4c-3619-4034-84a9-551ab2625792",
   "metadata": {},
   "outputs": [],
   "source": [
    "#documents to insert in the elasticsearch index \"cities\"\n",
    "doc1 = {\"city\":\"Bangalore\", \"country\":\"India\",\"datetime\":\"2018,01,01,10,20,00\"} #datetime format: yyyy,MM,dd,hh,mm,ss\n",
    "doc2 = {\"city\":\"London\", \"country\":\"England\",\"datetime\":\"2018,01,02,03,12,00\"}\n",
    "doc3 = {\"city\":\"Los Angeles\", \"country\":\"USA\",\"datetime\":\"2018,04,19,21,02,00\"}"
   ]
  },
  {
   "cell_type": "code",
   "execution_count": 4,
   "id": "9fac2e62-8b9c-41e2-b620-8f72e02207d5",
   "metadata": {},
   "outputs": [
    {
     "data": {
      "text/plain": [
       "ObjectApiResponse({'_index': 'travel', '_id': '3', '_version': 1, 'result': 'created', '_shards': {'total': 2, 'successful': 1, 'failed': 0}, '_seq_no': 2, '_primary_term': 1})"
      ]
     },
     "execution_count": 4,
     "metadata": {},
     "output_type": "execute_result"
    }
   ],
   "source": [
    "from elasticsearch import Elasticsearch\n",
    "\n",
    "es = Elasticsearch(\n",
    "    [{'host': 'localhost', 'port': 9200, 'scheme': 'http'}],\n",
    "    basic_auth=('elastic', '123456')\n",
    ")\n",
    "\n",
    "es.index(index = \"travel\", id = 1, body = doc1)\n",
    "es.index(index = \"travel\", id = 2, body = doc2)\n",
    "es.index(index = \"travel\", id = 3, body = doc3)\n"
   ]
  },
  {
   "cell_type": "markdown",
   "id": "ef4b8f9f-cd67-4e2e-b2e9-ce5816b7c5eb",
   "metadata": {},
   "source": [
    "Mapping "
   ]
  },
  {
   "cell_type": "code",
   "execution_count": 7,
   "id": "2199b1c7-57fb-478c-8bea-9e6192af1953",
   "metadata": {},
   "outputs": [
    {
     "data": {
      "text/plain": [
       "ObjectApiResponse({'acknowledged': True, 'shards_acknowledged': True, 'index': 'travel1'})"
      ]
     },
     "execution_count": 7,
     "metadata": {},
     "output_type": "execute_result"
    }
   ],
   "source": [
    "es.indices.create(index = 'travel1')"
   ]
  },
  {
   "cell_type": "code",
   "execution_count": 8,
   "id": "3cb4e8ee-e893-4c00-8a86-6b5b91d141c4",
   "metadata": {},
   "outputs": [
    {
     "data": {
      "text/plain": [
       "ObjectApiResponse({'acknowledged': True})"
      ]
     },
     "execution_count": 8,
     "metadata": {},
     "output_type": "execute_result"
    }
   ],
   "source": [
    "es.indices.put_mapping(\n",
    "    index = \"travel1\",\n",
    "    body = {\n",
    "        \"properties\": {\n",
    "            \"city\": {\n",
    "                \"type\": \"text\",\n",
    "                \"fields\": {\n",
    "                    \"keyword\": {\n",
    "                        \"type\": \"keyword\",\n",
    "                        \"ignore_above\": 256\n",
    "                    }\n",
    "                }\n",
    "            },\n",
    "            \"country\": {\n",
    "                \"type\": \"text\",\n",
    "                \"fields\": {\n",
    "                    \"keyword\" :{\n",
    "                        \"type\": \"keyword\",\n",
    "                        \"ignore_above\" : 256\n",
    "                    }\n",
    "                }\n",
    "            },\n",
    "            \"datetime\":{\n",
    "                \"type\": \"date\",\n",
    "                \"format\" : \"yyyy,MM,dd,hh,mm,ss\"\n",
    "            }\n",
    "        }\n",
    "    }\n",
    ")"
   ]
  },
  {
   "cell_type": "code",
   "execution_count": 11,
   "id": "5f36728e-3750-4f7c-bac8-8250e833707d",
   "metadata": {},
   "outputs": [
    {
     "data": {
      "text/plain": [
       "ObjectApiResponse({'travel1': {'mappings': {'properties': {'city': {'type': 'text', 'fields': {'keyword': {'type': 'keyword', 'ignore_above': 256}}}, 'country': {'type': 'text', 'fields': {'keyword': {'type': 'keyword', 'ignore_above': 256}}}, 'datetime': {'type': 'date', 'format': 'yyyy,MM,dd,hh,mm,ss'}}}}})"
      ]
     },
     "execution_count": 11,
     "metadata": {},
     "output_type": "execute_result"
    }
   ],
   "source": [
    "res = es.indices.get_mapping(index = 'travel1')\n",
    "\n",
    "res"
   ]
  },
  {
   "cell_type": "code",
   "execution_count": 14,
   "id": "f9aaad87-6d44-41ca-aed3-fca735bee7ee",
   "metadata": {},
   "outputs": [
    {
     "data": {
      "text/plain": [
       "ObjectApiResponse({'_index': 'travel1', '_id': '2', '_version': 2, 'result': 'updated', '_shards': {'total': 2, 'successful': 1, 'failed': 0}, '_seq_no': 4, '_primary_term': 1})"
      ]
     },
     "execution_count": 14,
     "metadata": {},
     "output_type": "execute_result"
    }
   ],
   "source": [
    "es.index(index = \"travel1\", id = 1, body = doc1)\n",
    "es.index(index = \"travel1\", id = 2, body = doc2)\n",
    "# es.index(index = \"travel1\", id = 3, body = doc3)"
   ]
  },
  {
   "cell_type": "code",
   "execution_count": 18,
   "id": "1d15c338-7348-4022-a58c-57e175687c59",
   "metadata": {},
   "outputs": [
    {
     "data": {
      "text/plain": [
       "ObjectApiResponse({'acknowledged': True})"
      ]
     },
     "execution_count": 18,
     "metadata": {},
     "output_type": "execute_result"
    }
   ],
   "source": [
    "es.indices.delete(index = \"travel\")"
   ]
  },
  {
   "cell_type": "markdown",
   "id": "f314c933-b762-4e46-a0b0-5078cad91e79",
   "metadata": {},
   "source": [
    "Aggregations\n",
    "\n",
    "https://www.elastic.co/blog/aggregate-all-the-things-new-aggregations-in-elasticsearch-7\n",
    "\n",
    "Aggregations are one of the most important application of Elasticsearch. It provides you with quick powerful analysis of your data! Below we have discussed aggregations over date values.\n",
    "\n",
    "Date Histogram\n",
    "\n",
    "A lot of analysis happen on a time-series scales. For example: Quaterly sales of iphone across the world. Therefore it is essential to have an fast aggregation done over large dataset under different granular scales. ES provides such an aggregation via date histogram aggregation. The granularities over which you can do aggregations are:\n",
    "\n",
    "year\n",
    "quater\n",
    "month\n",
    "hour\n",
    "week\n",
    "day\n",
    "hour\n",
    "minute\n",
    "second\n",
    "milisecond\n",
    "\n",
    "For more info : https://www.elastic.co/guide/en/elasticsearch/reference/current/search-aggregations-bucket-datehistogram-aggregation.html"
   ]
  },
  {
   "cell_type": "code",
   "execution_count": 19,
   "id": "82f1843c-7ac2-44db-81bd-7559876ce591",
   "metadata": {},
   "outputs": [],
   "source": [
    "doc1 = {\"city\":\"Bangalore\", \"country\":\"India\",\"datetime\":\"2018,01,01,10,20,00\"} #datetime format: yyyy,MM,dd,hh,mm,ss\n",
    "doc2 = {\"city\":\"London\", \"country\":\"England\",\"datetime\":\"2018,01,02,03,12,00\"}\n",
    "doc3 = {\"city\":\"Los Angeles\", \"country\":\"USA\",\"datetime\":\"2018,04,19,05,02,00\"}\n",
    "doc4 = {\"city\":\"Sydney\", \"country\":\"Australia\",\"datetime\":\"2019,01,01,10,20,00\"}"
   ]
  },
  {
   "cell_type": "code",
   "execution_count": 20,
   "id": "53f81520-a986-41f5-9fe2-6f4cf8aa798f",
   "metadata": {},
   "outputs": [
    {
     "data": {
      "text/plain": [
       "ObjectApiResponse({'_index': 'travel', '_id': '4', '_version': 1, 'result': 'created', '_shards': {'total': 2, 'successful': 1, 'failed': 0}, '_seq_no': 3, '_primary_term': 1})"
      ]
     },
     "execution_count": 20,
     "metadata": {},
     "output_type": "execute_result"
    }
   ],
   "source": [
    "es.index(index=\"travel\", id=1, body=doc1)\n",
    "es.index(index=\"travel\", id=2, body=doc2)\n",
    "es.index(index=\"travel\", id=3, body=doc3)\n",
    "es.index(index=\"travel\", id=4, body=doc4)"
   ]
  },
  {
   "cell_type": "code",
   "execution_count": 22,
   "id": "efa3475d-abd0-4972-b3c5-4e3dc3c06164",
   "metadata": {},
   "outputs": [
    {
     "data": {
      "text/plain": [
       "ObjectApiResponse({'travel': {'mappings': {'properties': {'city': {'type': 'text', 'fields': {'keyword': {'type': 'keyword', 'ignore_above': 256}}}, 'country': {'type': 'text', 'fields': {'keyword': {'type': 'keyword', 'ignore_above': 256}}}, 'datetime': {'type': 'text', 'fields': {'keyword': {'type': 'keyword', 'ignore_above': 256}}}}}}})"
      ]
     },
     "execution_count": 22,
     "metadata": {},
     "output_type": "execute_result"
    }
   ],
   "source": [
    "es.indices.get_mapping(index=\"travel\")"
   ]
  },
  {
   "cell_type": "code",
   "execution_count": 25,
   "id": "0ca9c873-6eab-4ab3-8b34-50c2f994aba3",
   "metadata": {},
   "outputs": [],
   "source": [
    "res = es.search(index='travel',\n",
    "                body = {'from':0,\n",
    "                        'size':5,\n",
    "                        'query':{\n",
    "                            'match_all':{}\n",
    "                        }\n",
    "                       }\n",
    "               )"
   ]
  },
  {
   "cell_type": "code",
   "execution_count": 27,
   "id": "e03bb44f-3f3e-45ed-95e8-bbedf164429e",
   "metadata": {},
   "outputs": [
    {
     "data": {
      "text/plain": [
       "{'total': {'value': 4, 'relation': 'eq'},\n",
       " 'max_score': 1.0,\n",
       " 'hits': [{'_index': 'travel',\n",
       "   '_id': '1',\n",
       "   '_score': 1.0,\n",
       "   '_source': {'city': 'Bangalore',\n",
       "    'country': 'India',\n",
       "    'datetime': '2018,01,01,10,20,00'}},\n",
       "  {'_index': 'travel',\n",
       "   '_id': '2',\n",
       "   '_score': 1.0,\n",
       "   '_source': {'city': 'London',\n",
       "    'country': 'England',\n",
       "    'datetime': '2018,01,02,03,12,00'}},\n",
       "  {'_index': 'travel',\n",
       "   '_id': '3',\n",
       "   '_score': 1.0,\n",
       "   '_source': {'city': 'Los Angeles',\n",
       "    'country': 'USA',\n",
       "    'datetime': '2018,04,19,05,02,00'}},\n",
       "  {'_index': 'travel',\n",
       "   '_id': '4',\n",
       "   '_score': 1.0,\n",
       "   '_source': {'city': 'Sydney',\n",
       "    'country': 'Australia',\n",
       "    'datetime': '2019,01,01,10,20,00'}}]}"
      ]
     },
     "execution_count": 27,
     "metadata": {},
     "output_type": "execute_result"
    }
   ],
   "source": [
    "res['hits']"
   ]
  },
  {
   "cell_type": "code",
   "execution_count": 29,
   "id": "7c93a2b9-6072-46a6-92e0-501814f7731a",
   "metadata": {},
   "outputs": [],
   "source": [
    "res = es.search(index='travel',\n",
    "                body = {'from':0,\n",
    "                        'size':5,\n",
    "                        'query':{\n",
    "                            'match':{\n",
    "                                \"city\":\"London\"\n",
    "                            }\n",
    "                        }\n",
    "                       }\n",
    "               )"
   ]
  },
  {
   "cell_type": "code",
   "execution_count": 31,
   "id": "c5528164-1291-4c53-b5ba-121bea7b7f11",
   "metadata": {},
   "outputs": [
    {
     "data": {
      "text/plain": [
       "{'total': {'value': 1, 'relation': 'eq'},\n",
       " 'max_score': 1.3112575,\n",
       " 'hits': [{'_index': 'travel',\n",
       "   '_id': '2',\n",
       "   '_score': 1.3112575,\n",
       "   '_source': {'city': 'London',\n",
       "    'country': 'England',\n",
       "    'datetime': '2018,01,02,03,12,00'}}]}"
      ]
     },
     "execution_count": 31,
     "metadata": {},
     "output_type": "execute_result"
    }
   ],
   "source": [
    "res['hits']"
   ]
  },
  {
   "cell_type": "code",
   "execution_count": 36,
   "id": "74f563d9-df5b-4e72-bc79-fc2c491f8972",
   "metadata": {},
   "outputs": [
    {
     "name": "stderr",
     "output_type": "stream",
     "text": [
      "C:\\Users\\Sridevi\\AppData\\Local\\Temp\\ipykernel_2380\\3898045094.py:2: DeprecationWarning: Passing transport options in the API method is deprecated. Use 'Elasticsearch.options()' instead.\n",
      "  es.indices.delete(index='travel', ignore=[400, 404])\n"
     ]
    },
    {
     "data": {
      "text/plain": [
       "ObjectApiResponse({'acknowledged': True})"
      ]
     },
     "execution_count": 36,
     "metadata": {},
     "output_type": "execute_result"
    }
   ],
   "source": [
    "# Delete the index if it exists\n",
    "es.indices.delete(index='travel', ignore=[400, 404])"
   ]
  },
  {
   "cell_type": "code",
   "execution_count": 37,
   "id": "6cd48b7e-8373-4e28-b7df-991eb778ef8a",
   "metadata": {},
   "outputs": [
    {
     "data": {
      "text/plain": [
       "ObjectApiResponse({'acknowledged': True, 'shards_acknowledged': True, 'index': 'travel'})"
      ]
     },
     "execution_count": 37,
     "metadata": {},
     "output_type": "execute_result"
    }
   ],
   "source": [
    "# Create the index with the correct mappings\n",
    "es.indices.create(\n",
    "    index='travel',\n",
    "    body={\n",
    "        \"mappings\": {\n",
    "            \"properties\": {\n",
    "                \"city\": {\n",
    "                    \"type\": \"text\",\n",
    "                    \"fields\": {\n",
    "                        \"keyword\": {\n",
    "                            \"type\": \"keyword\",\n",
    "                            \"ignore_above\": 256\n",
    "                        }\n",
    "                    }\n",
    "                },\n",
    "                \"country\": {\n",
    "                    \"type\": \"text\",\n",
    "                    \"fields\": {\n",
    "                        \"keyword\": {\n",
    "                            \"type\": \"keyword\",\n",
    "                            \"ignore_above\": 256\n",
    "                        }\n",
    "                    }\n",
    "                },\n",
    "                \"datetime\": {\n",
    "                    \"type\": \"date\",\n",
    "                    \"format\": \"yyyy,MM,dd,HH,mm,ss\"  # Correct the date format\n",
    "                }\n",
    "            }\n",
    "        }\n",
    "    }\n",
    ")\n",
    "\n",
    "#In mapping, first create a mapping and then put the index/ ID \n"
   ]
  },
  {
   "cell_type": "code",
   "execution_count": 42,
   "id": "39acbb85-c3bc-414b-ab8a-4122d009b742",
   "metadata": {},
   "outputs": [
    {
     "data": {
      "text/plain": [
       "ObjectApiResponse({'_index': 'travel', '_id': '3', '_version': 1, 'result': 'created', '_shards': {'total': 2, 'successful': 1, 'failed': 0}, '_seq_no': 2, '_primary_term': 1})"
      ]
     },
     "execution_count": 42,
     "metadata": {},
     "output_type": "execute_result"
    }
   ],
   "source": [
    "es.index(index='travel', id=1, body=doc1)\n",
    "es.index(index='travel', id=2, body=doc2)\n",
    "es.index(index='travel', id=3, body=doc3)"
   ]
  },
  {
   "cell_type": "code",
   "execution_count": 54,
   "id": "11e10186-48de-417b-9e87-c58bbc9d9c62",
   "metadata": {},
   "outputs": [],
   "source": [
    "# Search query with corrected date histogram aggregation\n",
    "res = es.search(\n",
    "    index=\"travel\",\n",
    "    body={\n",
    "        \"from\": 0,\n",
    "        \"size\": 4,\n",
    "        \"query\": {\n",
    "            \"match_all\": {}\n",
    "        },\n",
    "        \"aggs\": {\n",
    "            \"basic\": {\n",
    "                \"date_histogram\": {\n",
    "                    \"field\": \"datetime\",\n",
    "                    \"calendar_interval\": \"year\"  # Use fixed_interval instead of interval\n",
    "                }\n",
    "            }\n",
    "        }\n",
    "    }\n",
    ")"
   ]
  },
  {
   "cell_type": "code",
   "execution_count": 55,
   "id": "2515b10b-af08-483d-81ef-83d39cbed3b7",
   "metadata": {},
   "outputs": [
    {
     "name": "stdout",
     "output_type": "stream",
     "text": [
      "{'basic': {'buckets': [{'key_as_string': '2018,01,01,00,00,00', 'key': 1514764800000, 'doc_count': 3}]}}\n"
     ]
    }
   ],
   "source": [
    "print(res['aggregations'])"
   ]
  },
  {
   "cell_type": "code",
   "execution_count": 56,
   "id": "4183670c-67ae-4080-9bfc-9cf02a06cd2c",
   "metadata": {},
   "outputs": [],
   "source": [
    "res = es.search(index=\"travel\",\n",
    "              body={\"from\": 0, \"size\": 0, \"query\": {\"match_all\": {}}, \"aggs\": {\n",
    "                  \"country\": {\n",
    "                      \"date_histogram\": {\"field\": \"datetime\", \"calendar_interval\": \"quarter\"}}}})"
   ]
  },
  {
   "cell_type": "code",
   "execution_count": 58,
   "id": "08cb94c1-265a-4aaa-a94e-f1e56e4fba32",
   "metadata": {},
   "outputs": [
    {
     "data": {
      "text/plain": [
       "{'country': {'buckets': [{'key_as_string': '2018,01,01,00,00,00',\n",
       "    'key': 1514764800000,\n",
       "    'doc_count': 2},\n",
       "   {'key_as_string': '2018,04,01,00,00,00',\n",
       "    'key': 1522540800000,\n",
       "    'doc_count': 1}]}}"
      ]
     },
     "execution_count": 58,
     "metadata": {},
     "output_type": "execute_result"
    }
   ],
   "source": [
    "res['aggregations']"
   ]
  },
  {
   "cell_type": "code",
   "execution_count": null,
   "id": "76125dac-c67e-42d5-abc7-594a2ab72379",
   "metadata": {},
   "outputs": [],
   "source": []
  },
  {
   "cell_type": "code",
   "execution_count": null,
   "id": "25b227b3-635a-4673-82a0-73abf2b8c611",
   "metadata": {},
   "outputs": [],
   "source": []
  }
 ],
 "metadata": {
  "kernelspec": {
   "display_name": "Python 3 (ipykernel)",
   "language": "python",
   "name": "python3"
  },
  "language_info": {
   "codemirror_mode": {
    "name": "ipython",
    "version": 3
   },
   "file_extension": ".py",
   "mimetype": "text/x-python",
   "name": "python",
   "nbconvert_exporter": "python",
   "pygments_lexer": "ipython3",
   "version": "3.9.6"
  }
 },
 "nbformat": 4,
 "nbformat_minor": 5
}
