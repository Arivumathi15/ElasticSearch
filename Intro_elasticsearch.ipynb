{
 "cells": [
  {
   "cell_type": "code",
   "execution_count": 3,
   "id": "0a308c0b-b20e-4f58-8fc1-2c863f5eeb09",
   "metadata": {},
   "outputs": [],
   "source": [
    "from elasticsearch import Elasticsearch"
   ]
  },
  {
   "cell_type": "code",
   "execution_count": 16,
   "id": "907f737a-c2c6-4bf7-8a9b-1ad0eec60273",
   "metadata": {},
   "outputs": [],
   "source": [
    "es = Elasticsearch(\n",
    "    [{'host': 'localhost', 'port': 9200, 'scheme': 'http'}],\n",
    "    basic_auth=('elastic', '123456')\n",
    ")"
   ]
  },
  {
   "cell_type": "code",
   "execution_count": 17,
   "id": "26b7c2ba-259f-4601-994a-6ab530ff1083",
   "metadata": {},
   "outputs": [
    {
     "data": {
      "text/plain": [
       "<Elasticsearch(['http://localhost:9200'])>"
      ]
     },
     "execution_count": 17,
     "metadata": {},
     "output_type": "execute_result"
    }
   ],
   "source": [
    "es"
   ]
  },
  {
   "cell_type": "markdown",
   "id": "13cfb070-b34f-4a81-bd5e-bdb8f8ece333",
   "metadata": {},
   "source": [
    "Creating First Index"
   ]
  },
  {
   "cell_type": "code",
   "execution_count": 18,
   "id": "b188fe50-3416-495b-a08a-d4ed2b4f1dda",
   "metadata": {},
   "outputs": [],
   "source": [
    "res = es.indices.create(index = 'm_index')"
   ]
  },
  {
   "cell_type": "code",
   "execution_count": 19,
   "id": "73e54bff-fc96-4805-b712-39cf14a0ab90",
   "metadata": {},
   "outputs": [
    {
     "data": {
      "text/plain": [
       "ObjectApiResponse({'acknowledged': True, 'shards_acknowledged': True, 'index': 'm_index'})"
      ]
     },
     "execution_count": 19,
     "metadata": {},
     "output_type": "execute_result"
    }
   ],
   "source": [
    "res"
   ]
  },
  {
   "cell_type": "code",
   "execution_count": 21,
   "id": "edcde524-bc8b-41c8-8a3f-a91f90128304",
   "metadata": {},
   "outputs": [
    {
     "data": {
      "text/plain": [
       "HeadApiResponse(True)"
      ]
     },
     "execution_count": 21,
     "metadata": {},
     "output_type": "execute_result"
    }
   ],
   "source": [
    "es.indices.exists(index=\"m_index\")"
   ]
  },
  {
   "cell_type": "markdown",
   "id": "dc678fee-3a91-43b6-ae44-7a0b89a394ad",
   "metadata": {},
   "source": [
    "Deleting Index"
   ]
  },
  {
   "cell_type": "code",
   "execution_count": 22,
   "id": "ec24d75a-3259-469a-b8d6-6e798b1480cd",
   "metadata": {},
   "outputs": [],
   "source": [
    "demo_index = es.indices.create(index = 'demo_indx')"
   ]
  },
  {
   "cell_type": "code",
   "execution_count": 23,
   "id": "16c5991f-f711-43df-96a8-918b3c06ab10",
   "metadata": {},
   "outputs": [
    {
     "data": {
      "text/plain": [
       "ObjectApiResponse({'acknowledged': True, 'shards_acknowledged': True, 'index': 'demo_indx'})"
      ]
     },
     "execution_count": 23,
     "metadata": {},
     "output_type": "execute_result"
    }
   ],
   "source": [
    "demo_index"
   ]
  },
  {
   "cell_type": "code",
   "execution_count": 24,
   "id": "d721d7c7-f8b2-4bac-89bf-19b7ec575943",
   "metadata": {},
   "outputs": [
    {
     "data": {
      "text/plain": [
       "ObjectApiResponse({'acknowledged': True})"
      ]
     },
     "execution_count": 24,
     "metadata": {},
     "output_type": "execute_result"
    }
   ],
   "source": [
    "es.indices.delete(index = 'demo_indx')"
   ]
  },
  {
   "cell_type": "code",
   "execution_count": 25,
   "id": "3239e307-2bf3-4f50-b73a-e2e90b7f3604",
   "metadata": {},
   "outputs": [
    {
     "data": {
      "text/plain": [
       "HeadApiResponse(False)"
      ]
     },
     "execution_count": 25,
     "metadata": {},
     "output_type": "execute_result"
    }
   ],
   "source": [
    "es.indices.exists(index='demo_indx')"
   ]
  },
  {
   "cell_type": "markdown",
   "id": "b82cf0e1-0f36-4a6b-9a19-1f1891d2b11e",
   "metadata": {},
   "source": [
    "Inserting and Getting data"
   ]
  },
  {
   "cell_type": "code",
   "execution_count": 26,
   "id": "1af5519a-d60d-477a-8ab0-4da489dd2834",
   "metadata": {},
   "outputs": [],
   "source": [
    "Data_1 = {\"Name\": \"Arjun\", \"occupation\": \"DA\"}\n",
    "Data_2 = {\"Name\": \"Gokul\", \"occupation\": \"DS\"}\n",
    "Data_3 = {\"Name\": \"Kiran\", \"occupation\": \"DE\"}"
   ]
  },
  {
   "cell_type": "code",
   "execution_count": 29,
   "id": "c9db0da4-c407-487a-b073-c221e040a0fc",
   "metadata": {},
   "outputs": [
    {
     "data": {
      "text/plain": [
       "ObjectApiResponse({'_index': 'person', '_id': '1', '_version': 1, 'result': 'created', '_shards': {'total': 2, 'successful': 1, 'failed': 0}, '_seq_no': 0, '_primary_term': 1})"
      ]
     },
     "execution_count": 29,
     "metadata": {},
     "output_type": "execute_result"
    }
   ],
   "source": [
    "#allocating data_1 to body with id as 1 mentioning index and doc_type\n",
    "es.index(index=\"person\", id = 1, body= Data_1)"
   ]
  },
  {
   "cell_type": "code",
   "execution_count": 30,
   "id": "8a7d070a-79ef-44a4-947d-a7809404f55c",
   "metadata": {},
   "outputs": [
    {
     "data": {
      "text/plain": [
       "ObjectApiResponse({'_index': 'person', '_id': '2', '_version': 1, 'result': 'created', '_shards': {'total': 2, 'successful': 1, 'failed': 0}, '_seq_no': 1, '_primary_term': 1})"
      ]
     },
     "execution_count": 30,
     "metadata": {},
     "output_type": "execute_result"
    }
   ],
   "source": [
    "es.index(index=\"person\", id = 2, body= Data_2)"
   ]
  },
  {
   "cell_type": "code",
   "execution_count": 31,
   "id": "8a070164-b91a-4320-b951-11c0592453c5",
   "metadata": {},
   "outputs": [
    {
     "data": {
      "text/plain": [
       "ObjectApiResponse({'_index': 'person', '_id': '3', '_version': 1, 'result': 'created', '_shards': {'total': 2, 'successful': 1, 'failed': 0}, '_seq_no': 2, '_primary_term': 1})"
      ]
     },
     "execution_count": 31,
     "metadata": {},
     "output_type": "execute_result"
    }
   ],
   "source": [
    "es.index(index=\"person\", id = 3, body= Data_3)"
   ]
  },
  {
   "cell_type": "code",
   "execution_count": 32,
   "id": "bb909594-2689-4044-af2a-4f8b0d7f8efd",
   "metadata": {},
   "outputs": [
    {
     "data": {
      "text/plain": [
       "HeadApiResponse(True)"
      ]
     },
     "execution_count": 32,
     "metadata": {},
     "output_type": "execute_result"
    }
   ],
   "source": [
    "#checking if the index named \"person\" exists\n",
    "es.indices.exists(index=\"person\")"
   ]
  },
  {
   "cell_type": "code",
   "execution_count": 33,
   "id": "6173fce2-5127-4cb3-90d3-28e7c7ead0f6",
   "metadata": {},
   "outputs": [],
   "source": [
    "#getting the data, you can see the actual record along with the meta\n",
    "\n",
    "res = es.get(index = \"person\", id = 2)"
   ]
  },
  {
   "cell_type": "code",
   "execution_count": 34,
   "id": "608d5216-4a4e-4cd1-80b7-2114e29d7315",
   "metadata": {},
   "outputs": [
    {
     "data": {
      "text/plain": [
       "ObjectApiResponse({'_index': 'person', '_id': '2', '_version': 1, '_seq_no': 1, '_primary_term': 1, 'found': True, '_source': {'Name': 'Gokul', 'occupation': 'DS'}})"
      ]
     },
     "execution_count": 34,
     "metadata": {},
     "output_type": "execute_result"
    }
   ],
   "source": [
    "res"
   ]
  },
  {
   "cell_type": "code",
   "execution_count": 35,
   "id": "57879b06-b7d1-4aa0-a0d1-de0c46b1a0fa",
   "metadata": {},
   "outputs": [
    {
     "data": {
      "text/plain": [
       "{'Name': 'Gokul', 'occupation': 'DS'}"
      ]
     },
     "execution_count": 35,
     "metadata": {},
     "output_type": "execute_result"
    }
   ],
   "source": [
    "#it will on;y output the JSON structure for the record only\n",
    "res[\"_source\"]"
   ]
  },
  {
   "cell_type": "markdown",
   "id": "bc1eba3d-e105-4e5e-aef8-d6ae3e0b4187",
   "metadata": {},
   "source": [
    "Searching Query and Matching Document"
   ]
  },
  {
   "cell_type": "code",
   "execution_count": 38,
   "id": "db10ec06-0f47-445d-99fa-f8c19f98b78f",
   "metadata": {},
   "outputs": [],
   "source": [
    "# Creating new record data \n",
    "\n",
    "doc_4 = {\"sentence\":\"Every child likes an ice cream.\"}\n",
    "doc_5 = {\"sentence\":\"She swims every morning\"}\n",
    "doc_6 = {\"sentence\":\"Joe waited for the train.\"}\n",
    "doc_7 = {\"sentence\":\"I wait for Mary and Samantha at the bus station every morning.\"}"
   ]
  },
  {
   "cell_type": "code",
   "execution_count": 39,
   "id": "fc2087aa-05e1-4fdd-8767-b7e811b3f5f9",
   "metadata": {},
   "outputs": [
    {
     "data": {
      "text/plain": [
       "ObjectApiResponse({'_index': 'english', '_id': '7', '_version': 1, 'result': 'created', '_shards': {'total': 2, 'successful': 1, 'failed': 0}, '_seq_no': 3, '_primary_term': 1})"
      ]
     },
     "execution_count": 39,
     "metadata": {},
     "output_type": "execute_result"
    }
   ],
   "source": [
    "#allocating ID for all doc\n",
    "\n",
    "es.index(index = \"english\", id = 4, body = doc_4)\n",
    "es.index(index = \"english\", id = 5, body = doc_5)\n",
    "es.index(index = \"english\", id = 6, body = doc_6)\n",
    "es.index(index = \"english\", id = 7, body = doc_7)"
   ]
  },
  {
   "cell_type": "code",
   "execution_count": 59,
   "id": "8f8bf5eb-097f-4ba9-913d-7dae13196be3",
   "metadata": {},
   "outputs": [
    {
     "data": {
      "text/plain": [
       "ObjectApiResponse({'_index': 'english', '_id': '4', '_version': 1, '_seq_no': 0, '_primary_term': 1, 'found': True, '_source': {'sentence': 'Every child likes an ice cream.'}})"
      ]
     },
     "execution_count": 59,
     "metadata": {},
     "output_type": "execute_result"
    }
   ],
   "source": [
    "res = es.get(index = \"english\", id = 4)\n",
    "res"
   ]
  },
  {
   "cell_type": "code",
   "execution_count": 61,
   "id": "b0d07953-b5d4-4aa4-bd51-1b1de2bf9681",
   "metadata": {},
   "outputs": [
    {
     "data": {
      "text/plain": [
       "{'total': {'value': 4, 'relation': 'eq'},\n",
       " 'max_score': 1.0,\n",
       " 'hits': [{'_index': 'english',\n",
       "   '_id': '4',\n",
       "   '_score': 1.0,\n",
       "   '_source': {'sentence': 'Every child likes an ice cream.'}},\n",
       "  {'_index': 'english',\n",
       "   '_id': '5',\n",
       "   '_score': 1.0,\n",
       "   '_source': {'sentence': 'She swims every morning'}},\n",
       "  {'_index': 'english',\n",
       "   '_id': '6',\n",
       "   '_score': 1.0,\n",
       "   '_source': {'sentence': 'Joe waited for the train.'}},\n",
       "  {'_index': 'english',\n",
       "   '_id': '7',\n",
       "   '_score': 1.0,\n",
       "   '_source': {'sentence': 'I wait for Mary and Samantha at the bus station every morning.'}}]}"
      ]
     },
     "execution_count": 61,
     "metadata": {},
     "output_type": "execute_result"
    }
   ],
   "source": [
    "#print all doc in single index\n",
    "query = {\n",
    "    \"query\": {\n",
    "        \"match_all\": {}\n",
    "    },\n",
    "    \"size\": 1000  # Number of documents to retrieve per batch\n",
    "}\n",
    "\n",
    "res = es.search(index = \"english\", body = query)\n",
    "res['hits']"
   ]
  },
  {
   "cell_type": "markdown",
   "id": "67316975-b19d-4c76-a9e8-5b4d9112b6f4",
   "metadata": {},
   "source": [
    "QUERY"
   ]
  },
  {
   "cell_type": "code",
   "execution_count": 46,
   "id": "586350b5-6752-4649-8b9e-a07819f4270c",
   "metadata": {},
   "outputs": [],
   "source": [
    "#writing query for finding the specific information\n",
    "\n",
    "body = {\n",
    "    \"from\" : 0, #from which doc the query to be done/offset from region\n",
    "    \"size\" : 3, #how many result to displayed if the query returns result/no of matched docs\n",
    "    \"query\" : {\n",
    "        \"match\" : { #this will find the word \"every\" that matchs from the sentences \n",
    "            \"sentence\" : \"every\"\n",
    "        }\n",
    "    }\n",
    "}"
   ]
  },
  {
   "cell_type": "code",
   "execution_count": 47,
   "id": "51ad7d1e-513e-463d-b003-127b83f13cf4",
   "metadata": {},
   "outputs": [
    {
     "data": {
      "text/plain": [
       "ObjectApiResponse({'took': 9, 'timed_out': False, '_shards': {'total': 1, 'successful': 1, 'skipped': 0, 'failed': 0}, 'hits': {'total': {'value': 3, 'relation': 'eq'}, 'max_score': 0.42800996, 'hits': [{'_index': 'english', '_id': '5', '_score': 0.42800996, '_source': {'sentence': 'She swims every morning'}}, {'_index': 'english', '_id': '4', '_score': 0.37365946, '_source': {'sentence': 'Every child likes an ice cream.'}}, {'_index': 'english', '_id': '7', '_score': 0.27058095, '_source': {'sentence': 'I wait for Mary and Samantha at the bus station every morning.'}}]}})"
      ]
     },
     "execution_count": 47,
     "metadata": {},
     "output_type": "execute_result"
    }
   ],
   "source": [
    "res = es.search(index = \"english\", body = body)\n",
    "res"
   ]
  },
  {
   "cell_type": "code",
   "execution_count": 48,
   "id": "c0a8e34d-5f4f-444d-9fd9-1a9b7f81061e",
   "metadata": {},
   "outputs": [
    {
     "data": {
      "text/plain": [
       "{'total': {'value': 3, 'relation': 'eq'},\n",
       " 'max_score': 0.42800996,\n",
       " 'hits': [{'_index': 'english',\n",
       "   '_id': '5',\n",
       "   '_score': 0.42800996,\n",
       "   '_source': {'sentence': 'She swims every morning'}},\n",
       "  {'_index': 'english',\n",
       "   '_id': '4',\n",
       "   '_score': 0.37365946,\n",
       "   '_source': {'sentence': 'Every child likes an ice cream.'}},\n",
       "  {'_index': 'english',\n",
       "   '_id': '7',\n",
       "   '_score': 0.27058095,\n",
       "   '_source': {'sentence': 'I wait for Mary and Samantha at the bus station every morning.'}}]}"
      ]
     },
     "execution_count": 48,
     "metadata": {},
     "output_type": "execute_result"
    }
   ],
   "source": [
    "res[\"hits\"]"
   ]
  },
  {
   "cell_type": "code",
   "execution_count": 49,
   "id": "c2e859d6-9d84-441c-8abb-656759ad6111",
   "metadata": {},
   "outputs": [],
   "source": [
    "body = {\n",
    "    \"from\" : 2, #from which doc the query to be done/offset from region\n",
    "    \"size\" : 4, #how many result to displayed if the query returns result/no of matched docs\n",
    "    \"query\" : {\n",
    "        \"match\" : { #this will find the word \"every\" that matchs from the sentences \n",
    "            \"sentence\" : \"every\"\n",
    "        }\n",
    "    }\n",
    "}"
   ]
  },
  {
   "cell_type": "code",
   "execution_count": 50,
   "id": "03824fcb-2d90-40d4-a57e-23a8f2661387",
   "metadata": {},
   "outputs": [
    {
     "data": {
      "text/plain": [
       "ObjectApiResponse({'took': 5, 'timed_out': False, '_shards': {'total': 1, 'successful': 1, 'skipped': 0, 'failed': 0}, 'hits': {'total': {'value': 3, 'relation': 'eq'}, 'max_score': 0.42800996, 'hits': [{'_index': 'english', '_id': '7', '_score': 0.27058095, '_source': {'sentence': 'I wait for Mary and Samantha at the bus station every morning.'}}]}})"
      ]
     },
     "execution_count": 50,
     "metadata": {},
     "output_type": "execute_result"
    }
   ],
   "source": [
    "res = es.search(index=\"english\", body=body) # getting the result, You can see the actual record along with the meta\n",
    "res"
   ]
  },
  {
   "cell_type": "code",
   "execution_count": 51,
   "id": "2785f416-b463-4fab-8255-205f41c4782c",
   "metadata": {},
   "outputs": [
    {
     "data": {
      "text/plain": [
       "{'total': {'value': 3, 'relation': 'eq'},\n",
       " 'max_score': 0.42800996,\n",
       " 'hits': [{'_index': 'english',\n",
       "   '_id': '7',\n",
       "   '_score': 0.27058095,\n",
       "   '_source': {'sentence': 'I wait for Mary and Samantha at the bus station every morning.'}}]}"
      ]
     },
     "execution_count": 51,
     "metadata": {},
     "output_type": "execute_result"
    }
   ],
   "source": [
    "res[\"hits\"]"
   ]
  },
  {
   "cell_type": "code",
   "execution_count": 56,
   "id": "adf0ca6c-2e0a-4f1b-8b87-ce96cc3acfbd",
   "metadata": {},
   "outputs": [
    {
     "data": {
      "text/plain": [
       "{'total': {'value': 3, 'relation': 'eq'},\n",
       " 'max_score': 0.42800996,\n",
       " 'hits': [{'_index': 'english',\n",
       "   '_id': '5',\n",
       "   '_score': 0.42800996,\n",
       "   '_source': {'sentence': 'She swims every morning'}},\n",
       "  {'_index': 'english',\n",
       "   '_id': '4',\n",
       "   '_score': 0.37365946,\n",
       "   '_source': {'sentence': 'Every child likes an ice cream.'}},\n",
       "  {'_index': 'english',\n",
       "   '_id': '7',\n",
       "   '_score': 0.27058095,\n",
       "   '_source': {'sentence': 'I wait for Mary and Samantha at the bus station every morning.'}}]}"
      ]
     },
     "execution_count": 56,
     "metadata": {},
     "output_type": "execute_result"
    }
   ],
   "source": [
    "query = { #default 'size' is 10, default 'from' value is 0\n",
    "    \"query\": {\n",
    "        \"match\": {\n",
    "            \"sentence\": \"Every\"\n",
    "        }\n",
    "    }\n",
    "}\n",
    "\n",
    "res = es.search(index=\"english\", body=query) # getting the result, You can see the actual record along with the meta\n",
    "res['hits']"
   ]
  },
  {
   "cell_type": "code",
   "execution_count": 52,
   "id": "3cad6194-3c22-4b45-a32f-7a924c4374a8",
   "metadata": {},
   "outputs": [
    {
     "data": {
      "text/plain": [
       "ObjectApiResponse({'count': 4, '_shards': {'total': 1, 'successful': 1, 'skipped': 0, 'failed': 0}})"
      ]
     },
     "execution_count": 52,
     "metadata": {},
     "output_type": "execute_result"
    }
   ],
   "source": [
    "#Find how many documents are there in single index using count\n",
    "count_doc = es.count(index = \"english\")\n",
    "count_doc"
   ]
  },
  {
   "cell_type": "code",
   "execution_count": 53,
   "id": "05c3f976-6d4c-4195-8193-1a4d7b57d8a5",
   "metadata": {},
   "outputs": [
    {
     "data": {
      "text/plain": [
       "ObjectApiResponse({'count': 3, '_shards': {'total': 1, 'successful': 1, 'skipped': 0, 'failed': 0}})"
      ]
     },
     "execution_count": 53,
     "metadata": {},
     "output_type": "execute_result"
    }
   ],
   "source": [
    "count_doc = es.count(index = \"person\")\n",
    "count_doc"
   ]
  },
  {
   "cell_type": "markdown",
   "id": "50526016-c4f3-4176-b6b2-4b3f676f0520",
   "metadata": {},
   "source": [
    "Combined Query"
   ]
  },
  {
   "cell_type": "code",
   "execution_count": 64,
   "id": "5edb77c0-bb9a-4edd-92a2-5af853d497a4",
   "metadata": {},
   "outputs": [
    {
     "data": {
      "text/plain": [
       "{'total': {'value': 3, 'relation': 'eq'},\n",
       " 'max_score': 1.0,\n",
       " 'hits': [{'_index': 'english',\n",
       "   '_id': '4',\n",
       "   '_score': 1.0,\n",
       "   '_source': {'sentence': 'Every child likes an ice cream.'}},\n",
       "  {'_index': 'english',\n",
       "   '_id': '5',\n",
       "   '_score': 1.0,\n",
       "   '_source': {'sentence': 'She swims every morning'}},\n",
       "  {'_index': 'english',\n",
       "   '_id': '7',\n",
       "   '_score': 1.0,\n",
       "   '_source': {'sentence': 'I wait for Mary and Samantha at the bus station every morning.'}}]}"
      ]
     },
     "execution_count": 64,
     "metadata": {},
     "output_type": "execute_result"
    }
   ],
   "source": [
    "body = {\n",
    "    \"from\" : 0,\n",
    "    \"size\" : 4,\n",
    "    \"query\" : {\n",
    "        \"bool\": {\n",
    "            \"must_not\" :{\n",
    "                \"match\":{\n",
    "                    \"sentence\" : \"waited\"\n",
    "                }\n",
    "            },\n",
    "            \"should\" : {\n",
    "                \"regexp\" : { #regexp - regular expression, Regular expressions allow for pattern matching within strings, which is useful for complex string searches.\n",
    "                    \"sentence\" : \".*\" #^start.* - matches any sentence that starts with the word \"start\". The caret ^ indicates the beginning of the string.\n",
    "                }\n",
    "            }\n",
    "        }\n",
    "        \n",
    "    }\n",
    "}\n",
    "\n",
    "res = es.search(index = \"english\", body = body)\n",
    "res['hits']"
   ]
  },
  {
   "cell_type": "markdown",
   "id": "58a3a2f7-6d68-443d-ae50-8652a7e81fda",
   "metadata": {},
   "source": [
    "Match & match_phrase"
   ]
  },
  {
   "cell_type": "code",
   "execution_count": 65,
   "id": "e2ca2b57-f071-4c52-a681-d6dc691109d6",
   "metadata": {},
   "outputs": [],
   "source": [
    "doc_8 = {\"sentence\": \"The quick brown fox jumps over the lazy dog\"}\n",
    "doc_9 = {\"sentence\": \"The brown fox is quick and jumps over the lazy dog\"}\n",
    "doc_10 = {\"sentence\": \"Quickly, the brown fox jumps over the dog\"}"
   ]
  },
  {
   "cell_type": "code",
   "execution_count": 66,
   "id": "706cf782-d0a8-45bb-96b3-7314886d202d",
   "metadata": {},
   "outputs": [
    {
     "data": {
      "text/plain": [
       "ObjectApiResponse({'_index': 'english', '_id': '10', '_version': 1, 'result': 'created', '_shards': {'total': 2, 'successful': 1, 'failed': 0}, '_seq_no': 6, '_primary_term': 1})"
      ]
     },
     "execution_count": 66,
     "metadata": {},
     "output_type": "execute_result"
    }
   ],
   "source": [
    "es.index(index = \"english\", id = 8, body = doc_8)\n",
    "es.index(index = \"english\", id = 9, body = doc_9)\n",
    "es.index(index = \"english\", id = 10, body = doc_10)"
   ]
  },
  {
   "cell_type": "code",
   "execution_count": 73,
   "id": "99c105a5-19a5-47e0-8c57-b92f476eeea5",
   "metadata": {},
   "outputs": [
    {
     "data": {
      "text/plain": [
       "{'total': {'value': 3, 'relation': 'eq'},\n",
       " 'max_score': 2.6583266,\n",
       " 'hits': [{'_index': 'english',\n",
       "   '_id': '8',\n",
       "   '_score': 2.6583266,\n",
       "   '_source': {'sentence': 'The quick brown fox jumps over the lazy dog'}},\n",
       "  {'_index': 'english',\n",
       "   '_id': '9',\n",
       "   '_score': 2.4204364,\n",
       "   '_source': {'sentence': 'The brown fox is quick and jumps over the lazy dog'}},\n",
       "  {'_index': 'english',\n",
       "   '_id': '10',\n",
       "   '_score': 1.6411504,\n",
       "   '_source': {'sentence': 'Quickly, the brown fox jumps over the dog'}}]}"
      ]
     },
     "execution_count": 73,
     "metadata": {},
     "output_type": "execute_result"
    }
   ],
   "source": [
    "#match - match the word from the sentence\n",
    "body = {\n",
    "    \"from\" : 0,\n",
    "    \"size\" : 10,\n",
    "    \"query\": {\n",
    "        \"match\": {\n",
    "            \"sentence\": \"quick brown fox\"\n",
    "    }\n",
    "  }\n",
    "}\n",
    "\n",
    "res = es.search(index = \"english\", body = body)\n",
    "res['hits']"
   ]
  },
  {
   "cell_type": "code",
   "execution_count": 72,
   "id": "8263770c-de33-4378-a465-595a3500a8ca",
   "metadata": {},
   "outputs": [
    {
     "data": {
      "text/plain": [
       "{'total': {'value': 1, 'relation': 'eq'},\n",
       " 'max_score': 2.6583264,\n",
       " 'hits': [{'_index': 'english',\n",
       "   '_id': '8',\n",
       "   '_score': 2.6583264,\n",
       "   '_source': {'sentence': 'The quick brown fox jumps over the lazy dog'}}]}"
      ]
     },
     "execution_count": 72,
     "metadata": {},
     "output_type": "execute_result"
    }
   ],
   "source": [
    "#match_phrase - match the full phrase from the sentence\n",
    "body = {\n",
    "    \"from\" : 0,\n",
    "    \"size\" : 10,\n",
    "    \"query\": {\n",
    "        \"match_phrase\": {\n",
    "            \"sentence\": \"quick brown fox\"\n",
    "    }\n",
    "  }\n",
    "}\n",
    "\n",
    "res = es.search(index = \"english\", body = body)\n",
    "res['hits']"
   ]
  },
  {
   "cell_type": "code",
   "execution_count": 77,
   "id": "600b2f33-b410-4396-90f4-5ef68fb5e645",
   "metadata": {},
   "outputs": [
    {
     "data": {
      "text/plain": [
       "{'total': {'value': 7, 'relation': 'eq'},\n",
       " 'max_score': 1.0,\n",
       " 'hits': [{'_index': 'english',\n",
       "   '_id': '4',\n",
       "   '_score': 1.0,\n",
       "   '_source': {'sentence': 'Every child likes an ice cream.'}},\n",
       "  {'_index': 'english',\n",
       "   '_id': '5',\n",
       "   '_score': 1.0,\n",
       "   '_source': {'sentence': 'She swims every morning'}},\n",
       "  {'_index': 'english',\n",
       "   '_id': '6',\n",
       "   '_score': 1.0,\n",
       "   '_source': {'sentence': 'Joe waited for the train.'}},\n",
       "  {'_index': 'english',\n",
       "   '_id': '7',\n",
       "   '_score': 1.0,\n",
       "   '_source': {'sentence': 'I wait for Mary and Samantha at the bus station every morning.'}},\n",
       "  {'_index': 'english',\n",
       "   '_id': '8',\n",
       "   '_score': 1.0,\n",
       "   '_source': {'sentence': 'The quick brown fox jumps over the lazy dog'}},\n",
       "  {'_index': 'english',\n",
       "   '_id': '9',\n",
       "   '_score': 1.0,\n",
       "   '_source': {'sentence': 'The brown fox is quick and jumps over the lazy dog'}},\n",
       "  {'_index': 'english',\n",
       "   '_id': '10',\n",
       "   '_score': 1.0,\n",
       "   '_source': {'sentence': 'Quickly, the brown fox jumps over the dog'}}]}"
      ]
     },
     "execution_count": 77,
     "metadata": {},
     "output_type": "execute_result"
    }
   ],
   "source": [
    "res = es.search(index=\"english\", body={ \"from\": 0, \n",
    "                                        \"size\": 10, \n",
    "                                        \"query\": { \n",
    "                                            \"regexp\": { \n",
    "                                                \"sentence\":\".*\"}}})\n",
    "res[\"hits\"]"
   ]
  },
  {
   "cell_type": "code",
   "execution_count": 78,
   "id": "5b6ea30a-0414-4b6f-8f31-143a81249235",
   "metadata": {},
   "outputs": [
    {
     "data": {
      "text/plain": [
       "ObjectApiResponse({'took': 21, 'timed_out': False, '_shards': {'total': 1, 'successful': 1, 'skipped': 0, 'failed': 0}, 'hits': {'total': {'value': 3, 'relation': 'eq'}, 'max_score': 1.0, 'hits': [{'_index': 'english', '_id': '8', '_score': 1.0, '_source': {'sentence': 'The quick brown fox jumps over the lazy dog'}}, {'_index': 'english', '_id': '9', '_score': 1.0, '_source': {'sentence': 'The brown fox is quick and jumps over the lazy dog'}}, {'_index': 'english', '_id': '10', '_score': 1.0, '_source': {'sentence': 'Quickly, the brown fox jumps over the dog'}}]}})"
      ]
     },
     "execution_count": 78,
     "metadata": {},
     "output_type": "execute_result"
    }
   ],
   "source": [
    "es.search(index=\"english\", body={\"from\":0, \"size\":3,\"query\":{\"regexp\":{\"sentence\":\"br.*\"}}})"
   ]
  },
  {
   "cell_type": "code",
   "execution_count": null,
   "id": "9704bb7b-af3b-4db2-a288-9655b4ae603e",
   "metadata": {},
   "outputs": [],
   "source": []
  },
  {
   "cell_type": "code",
   "execution_count": null,
   "id": "5cf9e4b5-ca73-4880-8202-20f0e22c4aaf",
   "metadata": {},
   "outputs": [],
   "source": []
  },
  {
   "cell_type": "code",
   "execution_count": null,
   "id": "c76b666b-b070-4aeb-b43e-27f2ef544c08",
   "metadata": {},
   "outputs": [],
   "source": []
  },
  {
   "cell_type": "code",
   "execution_count": null,
   "id": "07a7dd75-252a-4763-b801-79bfc5a3ecbf",
   "metadata": {},
   "outputs": [],
   "source": []
  },
  {
   "cell_type": "code",
   "execution_count": null,
   "id": "4ea35a7a-59f3-46ee-a36a-f61ee8bc4bac",
   "metadata": {},
   "outputs": [],
   "source": []
  },
  {
   "cell_type": "code",
   "execution_count": null,
   "id": "1d2d5eb4-59c1-495e-a8b3-34e55854d0aa",
   "metadata": {},
   "outputs": [],
   "source": []
  },
  {
   "cell_type": "code",
   "execution_count": null,
   "id": "d081f156-56ad-478f-89d6-cf5ca7ec75c6",
   "metadata": {},
   "outputs": [],
   "source": []
  },
  {
   "cell_type": "code",
   "execution_count": null,
   "id": "6e49f50e-6846-4fc6-b48d-32bd1a822476",
   "metadata": {},
   "outputs": [],
   "source": []
  }
 ],
 "metadata": {
  "kernelspec": {
   "display_name": "Python 3 (ipykernel)",
   "language": "python",
   "name": "python3"
  },
  "language_info": {
   "codemirror_mode": {
    "name": "ipython",
    "version": 3
   },
   "file_extension": ".py",
   "mimetype": "text/x-python",
   "name": "python",
   "nbconvert_exporter": "python",
   "pygments_lexer": "ipython3",
   "version": "3.9.6"
  }
 },
 "nbformat": 4,
 "nbformat_minor": 5
}
